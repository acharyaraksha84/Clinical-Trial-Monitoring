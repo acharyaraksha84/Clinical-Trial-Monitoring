{
  "nbformat": 4,
  "nbformat_minor": 0,
  "metadata": {
    "colab": {
      "provenance": []
    },
    "kernelspec": {
      "name": "python3",
      "display_name": "Python 3"
    },
    "language_info": {
      "name": "python"
    }
  },
  "cells": [
    {
      "cell_type": "code",
      "execution_count": null,
      "metadata": {
        "colab": {
          "base_uri": "https://localhost:8080/"
        },
        "id": "av3emmEdN8jS",
        "outputId": "2a924bd6-3855-467e-d770-fb99c14fd234"
      },
      "outputs": [
        {
          "output_type": "stream",
          "name": "stdout",
          "text": [
            "All four CSV files generated: site_metadata.csv, screening.csv, enrollment.csv, visits.csv\n"
          ]
        }
      ],
      "source": [
        "import pandas as pd\n",
        "import numpy as np\n",
        "\n",
        "n_patients = 100  # Number of patients\n",
        "n_sites = 5       # Number of sites\n",
        "\n",
        "# Generate Site Metadata\n",
        "site_ids = [f\"SITE{str(i).zfill(2)}\" for i in range(1, n_sites + 1)]\n",
        "site_metadata = pd.DataFrame({\n",
        "    'site_id': site_ids,\n",
        "    'site_name': [f\"Site {i}\" for i in range(1, n_sites + 1)],\n",
        "    'country': np.random.choice(['USA', 'CAN', 'UK'], n_sites),\n",
        "    'target_enrollment': np.random.randint(50, 150, n_sites),\n",
        "    'pi_email': [f\"pi{i}@site.org\" for i in range(1, n_sites + 1)]\n",
        "})\n",
        "site_metadata.to_csv('site_metadata.csv', index=False)\n",
        "\n",
        "# Generate Patient List\n",
        "patient_ids = [f\"PAT{str(i).zfill(4)}\" for i in range(1, n_patients + 1)]\n",
        "patient_sites = np.random.choice(site_ids, n_patients)\n",
        "\n",
        "# Screening Data\n",
        "screen_status_choices = ['Passed', 'Failed']\n",
        "screen_status_probs = [0.8, 0.2]\n",
        "failure_reasons = ['Low Hb', 'Non-Compliance', 'Medical History', 'Other']\n",
        "\n",
        "screening_data = pd.DataFrame({\n",
        "    'patient_id': patient_ids,\n",
        "    'site_id': patient_sites,\n",
        "    'date_screened': pd.to_datetime('2025-09-01') + pd.to_timedelta(np.random.randint(0, 30, n_patients), unit='d'),\n",
        "    'screen_status': np.random.choice(screen_status_choices, n_patients, p=screen_status_probs),\n",
        "    'failure_reason': [''] * n_patients\n",
        "})\n",
        "# Assign failure reasons only for failed screenings\n",
        "screening_data.loc[screening_data['screen_status'] == 'Failed', 'failure_reason'] = np.random.choice(failure_reasons, screening_data['screen_status'].value_counts()['Failed'])\n",
        "screening_data.to_csv('screening.csv', index=False)\n",
        "\n",
        "# Enrollment Data (only patients who passed screening)\n",
        "passed_patients = screening_data[screening_data['screen_status'] == 'Passed']['patient_id']\n",
        "enrolled_flags = np.random.choice([0, 1], size=passed_patients.shape[0], p=[0.2, 0.8])\n",
        "enrollment_dates = pd.to_datetime('2025-09-05') + pd.to_timedelta(np.random.randint(0, 20, passed_patients.shape[0]), unit='d')\n",
        "randomization_dates = [date if flag == 1 else pd.NaT for date, flag in zip(enrollment_dates, enrolled_flags)]\n",
        "\n",
        "enrollment_data = pd.DataFrame({\n",
        "    'patient_id': passed_patients.values,\n",
        "    'site_id': screening_data.set_index('patient_id').loc[passed_patients, 'site_id'].values,\n",
        "    'date_enrolled': enrollment_dates,\n",
        "    'randomized': enrolled_flags,\n",
        "    'date_randomized': randomization_dates\n",
        "})\n",
        "enrollment_data.to_csv('enrollment.csv', index=False)\n",
        "\n",
        "# Visits Data\n",
        "visit_names = ['Visit1', 'Visit2', 'Visit3', 'Visit4']\n",
        "\n",
        "visits_list = []\n",
        "for patient in enrollment_data['patient_id']:\n",
        "    site = enrollment_data.loc[enrollment_data['patient_id'] == patient, 'site_id'].values[0]\n",
        "    enroll_date = enrollment_data.loc[enrollment_data['patient_id'] == patient, 'date_enrolled'].values[0]\n",
        "    for i, visit in enumerate(visit_names):\n",
        "        scheduled = pd.to_datetime(enroll_date) + pd.Timedelta(days=7 * i)\n",
        "        # Randomize actual visit date +/- 2 days\n",
        "        delta = np.random.randint(-2, 3)\n",
        "        actual = scheduled + pd.Timedelta(days=delta)\n",
        "        visit_status = np.random.choice(['Completed', 'Missed', 'Rescheduled'], p=[0.8, 0.15, 0.05])\n",
        "        adherence = np.random.randint(70, 101) if visit_status == 'Completed' else 0\n",
        "        diary = np.random.choice(['Y', 'N']) if visit_status == 'Completed' else 'N'\n",
        "\n",
        "        visits_list.append({\n",
        "            'patient_id': patient,\n",
        "            'site_id': site,\n",
        "            'visit_name': visit,\n",
        "            'scheduled_date': scheduled.date(),\n",
        "            'actual_date': actual.date() if visit_status != 'Missed' else pd.NaT,\n",
        "            'visit_status': visit_status,\n",
        "            'medication_adherence_pct': adherence,\n",
        "            'diary_submitted': diary\n",
        "        })\n",
        "\n",
        "visits_data = pd.DataFrame(visits_list)\n",
        "visits_data.to_csv('visits.csv', index=False)\n",
        "\n",
        "print(\"All four CSV files generated: site_metadata.csv, screening.csv, enrollment.csv, visits.csv\")\n"
      ]
    },
    {
      "cell_type": "code",
      "source": [
        "!ls\n"
      ],
      "metadata": {
        "colab": {
          "base_uri": "https://localhost:8080/"
        },
        "id": "EnxxLFw-ORmU",
        "outputId": "05fccf89-c27c-46dc-f432-4bb8bbdf9084"
      },
      "execution_count": null,
      "outputs": [
        {
          "output_type": "stream",
          "name": "stdout",
          "text": [
            "enrollment.csv\tsample_data  screening.csv  site_metadata.csv  visits.csv\n"
          ]
        }
      ]
    },
    {
      "cell_type": "code",
      "source": [
        "from google.colab import files\n",
        "files.download('screening.csv')\n",
        "files.download('enrollment.csv')\n",
        "files.download('visits.csv')\n",
        "files.download('site_metadata.csv')\n"
      ],
      "metadata": {
        "colab": {
          "base_uri": "https://localhost:8080/",
          "height": 17
        },
        "id": "yUttFd_UOcsn",
        "outputId": "ac3f69d2-22c0-4fc0-be1b-2c4126611e4d"
      },
      "execution_count": null,
      "outputs": [
        {
          "output_type": "display_data",
          "data": {
            "text/plain": [
              "<IPython.core.display.Javascript object>"
            ],
            "application/javascript": [
              "\n",
              "    async function download(id, filename, size) {\n",
              "      if (!google.colab.kernel.accessAllowed) {\n",
              "        return;\n",
              "      }\n",
              "      const div = document.createElement('div');\n",
              "      const label = document.createElement('label');\n",
              "      label.textContent = `Downloading \"${filename}\": `;\n",
              "      div.appendChild(label);\n",
              "      const progress = document.createElement('progress');\n",
              "      progress.max = size;\n",
              "      div.appendChild(progress);\n",
              "      document.body.appendChild(div);\n",
              "\n",
              "      const buffers = [];\n",
              "      let downloaded = 0;\n",
              "\n",
              "      const channel = await google.colab.kernel.comms.open(id);\n",
              "      // Send a message to notify the kernel that we're ready.\n",
              "      channel.send({})\n",
              "\n",
              "      for await (const message of channel.messages) {\n",
              "        // Send a message to notify the kernel that we're ready.\n",
              "        channel.send({})\n",
              "        if (message.buffers) {\n",
              "          for (const buffer of message.buffers) {\n",
              "            buffers.push(buffer);\n",
              "            downloaded += buffer.byteLength;\n",
              "            progress.value = downloaded;\n",
              "          }\n",
              "        }\n",
              "      }\n",
              "      const blob = new Blob(buffers, {type: 'application/binary'});\n",
              "      const a = document.createElement('a');\n",
              "      a.href = window.URL.createObjectURL(blob);\n",
              "      a.download = filename;\n",
              "      div.appendChild(a);\n",
              "      a.click();\n",
              "      div.remove();\n",
              "    }\n",
              "  "
            ]
          },
          "metadata": {}
        },
        {
          "output_type": "display_data",
          "data": {
            "text/plain": [
              "<IPython.core.display.Javascript object>"
            ],
            "application/javascript": [
              "download(\"download_1fc66749-3970-46df-a297-f1819960f654\", \"screening.csv\", 3617)"
            ]
          },
          "metadata": {}
        },
        {
          "output_type": "display_data",
          "data": {
            "text/plain": [
              "<IPython.core.display.Javascript object>"
            ],
            "application/javascript": [
              "\n",
              "    async function download(id, filename, size) {\n",
              "      if (!google.colab.kernel.accessAllowed) {\n",
              "        return;\n",
              "      }\n",
              "      const div = document.createElement('div');\n",
              "      const label = document.createElement('label');\n",
              "      label.textContent = `Downloading \"${filename}\": `;\n",
              "      div.appendChild(label);\n",
              "      const progress = document.createElement('progress');\n",
              "      progress.max = size;\n",
              "      div.appendChild(progress);\n",
              "      document.body.appendChild(div);\n",
              "\n",
              "      const buffers = [];\n",
              "      let downloaded = 0;\n",
              "\n",
              "      const channel = await google.colab.kernel.comms.open(id);\n",
              "      // Send a message to notify the kernel that we're ready.\n",
              "      channel.send({})\n",
              "\n",
              "      for await (const message of channel.messages) {\n",
              "        // Send a message to notify the kernel that we're ready.\n",
              "        channel.send({})\n",
              "        if (message.buffers) {\n",
              "          for (const buffer of message.buffers) {\n",
              "            buffers.push(buffer);\n",
              "            downloaded += buffer.byteLength;\n",
              "            progress.value = downloaded;\n",
              "          }\n",
              "        }\n",
              "      }\n",
              "      const blob = new Blob(buffers, {type: 'application/binary'});\n",
              "      const a = document.createElement('a');\n",
              "      a.href = window.URL.createObjectURL(blob);\n",
              "      a.download = filename;\n",
              "      div.appendChild(a);\n",
              "      a.click();\n",
              "      div.remove();\n",
              "    }\n",
              "  "
            ]
          },
          "metadata": {}
        },
        {
          "output_type": "display_data",
          "data": {
            "text/plain": [
              "<IPython.core.display.Javascript object>"
            ],
            "application/javascript": [
              "download(\"download_b499ab90-339d-4f17-9b90-1c898e683636\", \"enrollment.csv\", 3117)"
            ]
          },
          "metadata": {}
        },
        {
          "output_type": "display_data",
          "data": {
            "text/plain": [
              "<IPython.core.display.Javascript object>"
            ],
            "application/javascript": [
              "\n",
              "    async function download(id, filename, size) {\n",
              "      if (!google.colab.kernel.accessAllowed) {\n",
              "        return;\n",
              "      }\n",
              "      const div = document.createElement('div');\n",
              "      const label = document.createElement('label');\n",
              "      label.textContent = `Downloading \"${filename}\": `;\n",
              "      div.appendChild(label);\n",
              "      const progress = document.createElement('progress');\n",
              "      progress.max = size;\n",
              "      div.appendChild(progress);\n",
              "      document.body.appendChild(div);\n",
              "\n",
              "      const buffers = [];\n",
              "      let downloaded = 0;\n",
              "\n",
              "      const channel = await google.colab.kernel.comms.open(id);\n",
              "      // Send a message to notify the kernel that we're ready.\n",
              "      channel.send({})\n",
              "\n",
              "      for await (const message of channel.messages) {\n",
              "        // Send a message to notify the kernel that we're ready.\n",
              "        channel.send({})\n",
              "        if (message.buffers) {\n",
              "          for (const buffer of message.buffers) {\n",
              "            buffers.push(buffer);\n",
              "            downloaded += buffer.byteLength;\n",
              "            progress.value = downloaded;\n",
              "          }\n",
              "        }\n",
              "      }\n",
              "      const blob = new Blob(buffers, {type: 'application/binary'});\n",
              "      const a = document.createElement('a');\n",
              "      a.href = window.URL.createObjectURL(blob);\n",
              "      a.download = filename;\n",
              "      div.appendChild(a);\n",
              "      a.click();\n",
              "      div.remove();\n",
              "    }\n",
              "  "
            ]
          },
          "metadata": {}
        },
        {
          "output_type": "display_data",
          "data": {
            "text/plain": [
              "<IPython.core.display.Javascript object>"
            ],
            "application/javascript": [
              "download(\"download_c5af2fd3-b083-4f77-92ef-9930ef7e2138\", \"visits.csv\", 19028)"
            ]
          },
          "metadata": {}
        },
        {
          "output_type": "display_data",
          "data": {
            "text/plain": [
              "<IPython.core.display.Javascript object>"
            ],
            "application/javascript": [
              "\n",
              "    async function download(id, filename, size) {\n",
              "      if (!google.colab.kernel.accessAllowed) {\n",
              "        return;\n",
              "      }\n",
              "      const div = document.createElement('div');\n",
              "      const label = document.createElement('label');\n",
              "      label.textContent = `Downloading \"${filename}\": `;\n",
              "      div.appendChild(label);\n",
              "      const progress = document.createElement('progress');\n",
              "      progress.max = size;\n",
              "      div.appendChild(progress);\n",
              "      document.body.appendChild(div);\n",
              "\n",
              "      const buffers = [];\n",
              "      let downloaded = 0;\n",
              "\n",
              "      const channel = await google.colab.kernel.comms.open(id);\n",
              "      // Send a message to notify the kernel that we're ready.\n",
              "      channel.send({})\n",
              "\n",
              "      for await (const message of channel.messages) {\n",
              "        // Send a message to notify the kernel that we're ready.\n",
              "        channel.send({})\n",
              "        if (message.buffers) {\n",
              "          for (const buffer of message.buffers) {\n",
              "            buffers.push(buffer);\n",
              "            downloaded += buffer.byteLength;\n",
              "            progress.value = downloaded;\n",
              "          }\n",
              "        }\n",
              "      }\n",
              "      const blob = new Blob(buffers, {type: 'application/binary'});\n",
              "      const a = document.createElement('a');\n",
              "      a.href = window.URL.createObjectURL(blob);\n",
              "      a.download = filename;\n",
              "      div.appendChild(a);\n",
              "      a.click();\n",
              "      div.remove();\n",
              "    }\n",
              "  "
            ]
          },
          "metadata": {}
        },
        {
          "output_type": "display_data",
          "data": {
            "text/plain": [
              "<IPython.core.display.Javascript object>"
            ],
            "application/javascript": [
              "download(\"download_e229e4f3-a406-4710-8ce5-c89a1c135778\", \"site_metadata.csv\", 223)"
            ]
          },
          "metadata": {}
        }
      ]
    }
  ]
}